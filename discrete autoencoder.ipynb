{
 "cells": [
  {
   "cell_type": "code",
   "execution_count": 1,
   "metadata": {},
   "outputs": [],
   "source": [
    "%load_ext autoreload\n",
    "%autoreload 2"
   ]
  },
  {
   "cell_type": "code",
   "execution_count": 2,
   "metadata": {},
   "outputs": [],
   "source": [
    "import os\n",
    "from mpl_toolkits import mplot3d\n",
    "import matplotlib.pyplot as plt\n",
    "import numpy as np\n",
    "from PIL import Image\n",
    "import visdom\n",
    "\n",
    "import torch\n",
    "from torch.utils.data import Dataset, DataLoader\n",
    "import torch.nn.functional as F\n",
    "from torchvision import transforms\n",
    "import torch.nn as nn\n",
    "import torch.nn.functional as F\n",
    "import torchvision.transforms.functional as TF\n",
    "from torchsummary import summary\n",
    "\n",
    "import h5py\n",
    "%matplotlib notebook "
   ]
  },
  {
   "cell_type": "code",
   "execution_count": 3,
   "metadata": {
    "scrolled": true
   },
   "outputs": [
    {
     "data": {
      "text/plain": [
       "<torch._C.Generator at 0x7fd6c46ac8d0>"
      ]
     },
     "execution_count": 3,
     "metadata": {},
     "output_type": "execute_result"
    }
   ],
   "source": [
    "device = torch.device(\"cuda\" if torch.cuda.is_available() else \"cpu\")\n",
    "\n",
    "# reproducible.\n",
    "if torch.cuda.is_available():\n",
    "    torch.backends.cudnn.deterministic = True\n",
    "torch.manual_seed(0)"
   ]
  },
  {
   "cell_type": "code",
   "execution_count": 4,
   "metadata": {},
   "outputs": [
    {
     "data": {
      "text/plain": [
       "device(type='cuda')"
      ]
     },
     "execution_count": 4,
     "metadata": {},
     "output_type": "execute_result"
    }
   ],
   "source": [
    "device"
   ]
  },
  {
   "cell_type": "markdown",
   "metadata": {},
   "source": [
    "python -m visdom.server"
   ]
  },
  {
   "cell_type": "code",
   "execution_count": 5,
   "metadata": {},
   "outputs": [],
   "source": [
    "class VisdomLinePlotter(object):\n",
    "    \"\"\"Plots to Visdom\"\"\"\n",
    "    def __init__(self, env_name='main'):\n",
    "        self.viz = visdom.Visdom()\n",
    "        self.env = env_name\n",
    "        self.plots = {}\n",
    "    def plot(self, var_name, split_name, title_name, x, y, xlabel = 'Epochs'):\n",
    "        if var_name not in self.plots:\n",
    "            self.plots[var_name] = self.viz.line(X=np.array([x,x]), Y=np.array([y,y]), env=self.env, opts=dict(\n",
    "                legend=[split_name],\n",
    "                title=title_name,\n",
    "                xlabel=xlabel,\n",
    "                ylabel=var_name\n",
    "            ))\n",
    "        else:\n",
    "            self.viz.line(X=np.array([x]), Y=np.array([y]), env=self.env, win=self.plots[var_name], name=split_name, update = 'append')\n",
    "    \n",
    "    def ImgPlot(self, img, title, caption):\n",
    "        self.viz.images(\n",
    "            img,\n",
    "            opts=dict(title=title, caption=caption\n",
    "                 \n",
    "        ))\n",
    "        \n",
    "    def VoxelPlot(self, voxels, title):\n",
    "        dataIO.plotVoxelVisdom(voxels, self.viz, title)"
   ]
  },
  {
   "cell_type": "code",
   "execution_count": 6,
   "metadata": {},
   "outputs": [
    {
     "name": "stderr",
     "output_type": "stream",
     "text": [
      "WARNING:root:Setting up a new session...\n"
     ]
    }
   ],
   "source": [
    "global plotter\n",
    "plotter = VisdomLinePlotter()"
   ]
  },
  {
   "cell_type": "markdown",
   "metadata": {},
   "source": [
    "## Dataset loader"
   ]
  },
  {
   "cell_type": "code",
   "execution_count": 7,
   "metadata": {},
   "outputs": [],
   "source": [
    "path_h5 = '/home/ankbzpx/datasets/ShapeNet/ShapeNetRenderingh5_v1/03001627/'\n",
    "MODEL_PATH = '/home/ankbzpx/Documents/'"
   ]
  },
  {
   "cell_type": "code",
   "execution_count": 8,
   "metadata": {},
   "outputs": [],
   "source": [
    "# plot vox or img\n",
    "from vis_utils import plotFromVoxels, plotImg, plot_image_list"
   ]
  },
  {
   "cell_type": "code",
   "execution_count": 9,
   "metadata": {},
   "outputs": [],
   "source": [
    "class ChairDepthDataset(Dataset):\n",
    "    \n",
    "    def __init__(self, h5_file):\n",
    "        \n",
    "        self.hf = h5py.File(h5_file, 'r')\n",
    "        self.keys = list(self.hf.keys())\n",
    "        \n",
    "        self.to_tensor = transforms.ToTensor()\n",
    "\n",
    "    def __len__(self):\n",
    "        return len(self.keys)\n",
    "\n",
    "    def __getitem__(self, idx):\n",
    "        \n",
    "        group = self.hf[self.keys[idx]]\n",
    "        \n",
    "        model_id = str(group['model_id'])\n",
    "        depth_img = self.to_tensor(Image.fromarray(np.array(group['depth_img'])))\n",
    "        azimuth = float(group['azimuth'][()])\n",
    "        elevation = float(group['elevation'][()])\n",
    "        distance = float(group['distance'][()])\n",
    "        target_vox = torch.tensor(group['target_vox'], dtype=torch.float)\n",
    "        #trimap = torch.tensor(group['trimap'], dtype=torch.int)\n",
    "        \n",
    "        sample = {'model_id': model_id,\n",
    "                  'depth_img': depth_img,\n",
    "                  'azimuth': azimuth,\n",
    "                  'elevation': elevation,\n",
    "                  'distance': distance,\n",
    "                  'target_vox': target_vox, \n",
    "                 }\n",
    "\n",
    "        return sample"
   ]
  },
  {
   "cell_type": "code",
   "execution_count": 10,
   "metadata": {},
   "outputs": [],
   "source": [
    "train_depth_dataset = ChairDepthDataset(path_h5 + 'data_train_rescale.h5')\n",
    "\n",
    "batch_size = 128\n",
    "\n",
    "train_model_dataloader = DataLoader(train_depth_dataset, batch_size=batch_size,\n",
    "                        shuffle=True, num_workers=12)"
   ]
  },
  {
   "cell_type": "code",
   "execution_count": 11,
   "metadata": {},
   "outputs": [
    {
     "data": {
      "text/plain": [
       "988"
      ]
     },
     "execution_count": 11,
     "metadata": {},
     "output_type": "execute_result"
    }
   ],
   "source": [
    "len(train_model_dataloader)"
   ]
  },
  {
   "cell_type": "code",
   "execution_count": 12,
   "metadata": {
    "scrolled": false
   },
   "outputs": [],
   "source": [
    "from models import Discrete_encoder, Mapping, Discrete_decoder\n",
    "\n",
    "discrete_encoder = Discrete_encoder().to(device)\n",
    "mapping = Mapping().to(device)\n",
    "discrete_decoder = Discrete_decoder().to(device)"
   ]
  },
  {
   "cell_type": "code",
   "execution_count": 13,
   "metadata": {},
   "outputs": [],
   "source": [
    "num_epochs = 30\n",
    "start_epoch = 0\n",
    "lr = 1e-4\n",
    "\n",
    "bceloss = nn.BCEWithLogitsLoss()\n",
    "\n",
    "optimizer = torch.optim.Adam([\n",
    "        {\"params\": discrete_encoder.parameters(), \"lr\":lr},\n",
    "        {\"params\": mapping.parameters(), \"lr\":lr},\n",
    "        {\"params\": discrete_decoder.parameters(), \"lr\":lr},\n",
    "    ])"
   ]
  },
  {
   "cell_type": "code",
   "execution_count": 14,
   "metadata": {},
   "outputs": [
    {
     "name": "stdout",
     "output_type": "stream",
     "text": [
      "Starting Training Loop...\n",
      "Epoch:  0\n",
      "Epoch:  1\n",
      "Epoch:  2\n",
      "Epoch:  3\n",
      "Epoch:  4\n",
      "Epoch:  5\n",
      "Epoch:  6\n",
      "Epoch:  7\n",
      "Epoch:  8\n",
      "Epoch:  9\n",
      "Epoch:  10\n",
      "Epoch:  11\n",
      "Epoch:  12\n",
      "Epoch:  13\n",
      "Epoch:  14\n",
      "Epoch:  15\n",
      "Epoch:  16\n",
      "Epoch:  17\n",
      "Epoch:  18\n",
      "Epoch:  19\n",
      "Epoch:  20\n",
      "Epoch:  21\n",
      "Epoch:  22\n",
      "Epoch:  23\n",
      "Epoch:  24\n",
      "Epoch:  25\n",
      "Epoch:  26\n",
      "Epoch:  27\n",
      "Epoch:  28\n",
      "Epoch:  29\n",
      "Training finished\n"
     ]
    }
   ],
   "source": [
    "# Training Loop\n",
    "batch_len = len(train_model_dataloader)\n",
    "\n",
    "print(\"Starting Training Loop...\")\n",
    "\n",
    "for epoch in range(start_epoch, num_epochs):\n",
    "    \n",
    "    loss_list = []\n",
    "    \n",
    "    print(\"Epoch: \", epoch)\n",
    "    \n",
    "    count = 0\n",
    "    \n",
    "    for i, data in enumerate(train_model_dataloader):\n",
    "        \n",
    "        # Input image\n",
    "        depth_img = data['depth_img'].to(device)\n",
    "        target_vox = data['target_vox'].to(device)\n",
    "        \n",
    "        optimizer.zero_grad()\n",
    "        \n",
    "        out_vox = discrete_decoder(mapping(discrete_encoder(depth_img)))\n",
    "        loss = bceloss(out_vox, target_vox)\n",
    "        loss.backward()\n",
    "        \n",
    "        loss_list.append(loss.item())\n",
    "        \n",
    "        optimizer.step()\n",
    "        \n",
    "        count += 1\n",
    "        \n",
    "        plotter.plot('loss', 'BCE', 'Batch Loss', batch_len * epoch + i, loss.item(), 'batch')\n",
    "        \n",
    "        if count % 1000 == 0:\n",
    "            torch.save(discrete_encoder.state_dict(), 'discrete_encoder.pth')\n",
    "            torch.save(mapping.state_dict(), 'mapping.pth')\n",
    "            torch.save(discrete_decoder.state_dict(), 'discrete_decoder.pth')\n",
    "            \n",
    "    plotter.plot('Average', 'Vox', 'Epoch loss', epoch, np.average(loss_list))\n",
    "    \n",
    "    torch.save(discrete_encoder.state_dict(), 'discrete_encoder.pth')\n",
    "    torch.save(mapping.state_dict(), 'mapping.pth')\n",
    "    torch.save(discrete_decoder.state_dict(), 'discrete_decoder.pth')\n",
    "    \n",
    "print(\"Training finished\")"
   ]
  },
  {
   "cell_type": "markdown",
   "metadata": {},
   "source": [
    "## Discrete model evaluation"
   ]
  },
  {
   "cell_type": "code",
   "execution_count": null,
   "metadata": {},
   "outputs": [],
   "source": [
    "test_depth_dataset = ChairDepthDataset(path_h5 + 'data_test_rescale.h5')\n",
    "\n",
    "batch_size = 128\n",
    "\n",
    "test_model_dataloader = DataLoader(test_depth_dataset, batch_size=batch_size,\n",
    "                        shuffle=True, num_workers=12)"
   ]
  },
  {
   "cell_type": "code",
   "execution_count": 22,
   "metadata": {},
   "outputs": [
    {
     "data": {
      "text/plain": [
       "<Figure size 432x432 with 0 Axes>"
      ]
     },
     "metadata": {},
     "output_type": "display_data"
    },
    {
     "data": {
      "image/png": "[encoded data removed]",
      "text/plain": [
       "<Figure size 288x288 with 1 Axes>"
      ]
     },
     "metadata": {
      "needs_background": "light"
     },
     "output_type": "display_data"
    },
    {
     "data": {
      "image/png": "[encoded data removed]",
      "text/plain": [
       "<Figure size 432x432 with 1 Axes>"
      ]
     },
     "metadata": {
      "needs_background": "light"
     },
     "output_type": "display_data"
    }
   ],
   "source": [
    "discrete_encoder = Discrete_encoder().to(device)\n",
    "discrete_encoder.load_state_dict(torch.load(MODEL_PATH + 'discrete continuous shape/discrete_encoder.pth'))\n",
    "e = discrete_encoder.eval()\n",
    "\n",
    "discrete_decoder = Discrete_decoder().to(device)\n",
    "discrete_decoder.load_state_dict(torch.load(MODEL_PATH + 'discrete continuous shape/discrete_decoder.pth'))\n",
    "e = discrete_decoder.eval()\n",
    "\n",
    "depth_img = test_depth_dataset[2*24]['depth_img'].to(device).unsqueeze(0)\n",
    "\n",
    "out_vox = torch.sigmoid(discrete_decoder(discrete_encoder(depth_img))) > 0.5\n",
    "\n",
    "plt.figure(figsize=(6, 6))\n",
    "plotImg(depth_img.detach().cpu().numpy()[0, 0, :,:])\n",
    "\n",
    "plotFromVoxels(out_vox.detach().cpu().numpy()[0,0,:,:,:])"
   ]
  },
  {
   "cell_type": "code",
   "execution_count": null,
   "metadata": {},
   "outputs": [],
   "source": []
  }
 ],
 "metadata": {
  "kernelspec": {
   "display_name": "Python 3",
   "language": "python",
   "name": "python3"
  },
  "language_info": {
   "codemirror_mode": {
    "name": "ipython",
    "version": 3
   },
   "file_extension": ".py",
   "mimetype": "text/x-python",
   "name": "python",
   "nbconvert_exporter": "python",
   "pygments_lexer": "ipython3",
   "version": "3.7.3"
  }
 },
 "nbformat": 4,
 "nbformat_minor": 2
}
